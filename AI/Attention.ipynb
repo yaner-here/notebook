{
 "cells": [
  {
   "cell_type": "code",
   "execution_count": 1,
   "metadata": {},
   "outputs": [],
   "source": [
    "import torch\n",
    "import pprint"
   ]
  },
  {
   "cell_type": "markdown",
   "metadata": {},
   "source": [
    "# 创建嵌入张量"
   ]
  },
  {
   "cell_type": "code",
   "execution_count": 2,
   "metadata": {},
   "outputs": [
    {
     "name": "stdout",
     "output_type": "stream",
     "text": [
      "(tensor([4, 5, 6, 3, 0, 1, 2], device='cuda:0', dtype=torch.int32),\n",
      " tensor([[-7.3236e-01,  6.1053e-01, -4.3208e-01,  5.3864e-01, -9.3632e-01,\n",
      "         -1.9156e-01, -6.3060e-01,  1.1363e-01,  1.8043e+00, -9.4311e-02,\n",
      "         -1.4965e-01, -5.4332e-01,  1.2353e+00, -1.4759e+00, -1.0286e+00,\n",
      "          5.7266e-01],\n",
      "        [-5.0617e-01,  2.0712e+00,  9.6715e-02, -4.5395e-01, -6.9383e-01,\n",
      "         -1.2759e+00, -2.0697e+00,  7.8007e-01, -2.8403e+00,  1.5434e+00,\n",
      "          1.4221e+00, -1.5882e+00,  2.8490e-01,  8.4525e-01,  2.7150e-01,\n",
      "          4.0056e-01],\n",
      "        [-9.2905e-01, -2.8743e-01,  1.4922e+00,  4.9263e-03, -5.2021e-01,\n",
      "          9.4936e-01,  1.2950e+00,  1.2434e+00, -9.3441e-02,  6.4919e-01,\n",
      "         -3.7933e-01, -7.7334e-01,  6.7946e-01, -9.8882e-01,  3.3297e-01,\n",
      "         -1.0761e+00],\n",
      "        [-2.3402e-01,  1.7017e+00, -1.1020e+00, -8.8707e-01,  8.3205e-01,\n",
      "         -2.0504e+00, -2.2760e-01, -3.7249e-01, -9.0152e-01, -9.5659e-01,\n",
      "         -6.8315e-01,  1.4186e+00, -6.3702e-02, -1.5478e+00, -8.7523e-01,\n",
      "          1.8594e+00],\n",
      "        [ 9.2083e-01, -5.7142e-01, -1.8582e-01, -1.1364e+00, -6.7831e-01,\n",
      "          2.0223e-01, -1.2548e+00,  8.8070e-01, -2.0987e-01, -1.0742e-01,\n",
      "          7.5395e-01, -9.0500e-02, -5.4929e-01, -5.4112e-01,  2.0724e-01,\n",
      "          2.9461e-01],\n",
      "        [-8.6306e-02, -1.3789e+00, -2.6028e-02, -1.1766e-01, -6.2062e-01,\n",
      "          9.3305e-01,  1.1150e+00, -2.1295e+00, -5.6641e-01,  1.3926e+00,\n",
      "         -6.3972e-01,  6.9497e-01,  1.5286e-01, -2.6292e-01, -1.6923e+00,\n",
      "          1.0728e+00],\n",
      "        [-8.3824e-01,  1.9566e+00, -2.8056e-01, -2.2407e-01, -1.6981e+00,\n",
      "          8.2787e-01, -3.1121e-01,  2.8223e-01, -8.0562e-01, -6.9924e-01,\n",
      "          1.5336e+00,  8.4703e-01,  1.5513e-01, -1.2063e-01, -5.5927e-04,\n",
      "         -7.8480e-01]], device='cuda:0', grad_fn=<EmbeddingBackward0>))\n"
     ]
    }
   ],
   "source": [
    "wordlist: list[str] = [\"apple\", \"and\", \"banana\", \"eat\", \"I\", \"like\", \"to\"]\n",
    "dictionary: dict[str, int] = {word: index for index, word in enumerate(wordlist)}\n",
    "\n",
    "sentence: str = \"I like to eat apple and banana\"\n",
    "sentence_index: torch.IntTensor = torch.IntTensor([dictionary[word] for word in sentence.split()]).cuda()\n",
    "\n",
    "embedding_layer = torch.nn.Embedding(len(wordlist), 16).cuda()\n",
    "sentence_embedding = embedding_layer(sentence_index)\n",
    "\n",
    "pprint.pprint((sentence_index, sentence_embedding))"
   ]
  },
  {
   "cell_type": "code",
   "execution_count": 6,
   "metadata": {},
   "outputs": [
    {
     "name": "stdout",
     "output_type": "stream",
     "text": [
      "{'keys.shape': torch.Size([7, 24]),\n",
      " 'queries.shape': torch.Size([7, 24]),\n",
      " 'values.shape': torch.Size([7, 28])}\n"
     ]
    }
   ],
   "source": [
    "n, d_embedding, d_query, d_key, d_value = len(wordlist), sentence_embedding.shape[1], 24, 24, 28\n",
    "W_query = torch.nn.Parameter(torch.rand(d_query, d_embedding)).cuda()\n",
    "W_key = torch.nn.Parameter(torch.rand(d_key, d_embedding)).cuda()\n",
    "W_value = torch.nn.Parameter(torch.rand(d_value, d_embedding)).cuda()\n",
    "\n",
    "keys = torch.matmul(W_key, sentence_embedding.T).T\n",
    "values = torch.matmul(W_value, sentence_embedding.T).T\n",
    "queries = torch.matmul(W_query, sentence_embedding.T).T\n",
    "\n",
    "pprint.pprint({\n",
    "    \"keys.shape\": keys.shape,\n",
    "    \"values.shape\": values.shape,\n",
    "    \"queries.shape\": queries.shape\n",
    "})"
   ]
  },
  {
   "cell_type": "code",
   "execution_count": 15,
   "metadata": {},
   "outputs": [
    {
     "name": "stdout",
     "output_type": "stream",
     "text": [
      "{'query_1.shape': torch.Size([24]),\n",
      " 'omega_1.shape': torch.Size([7]),\n",
      " 'attention_1.shape': torch.Size([7]),\n",
      " 'context_1.shape': torch.Size([28])}\n"
     ]
    }
   ],
   "source": [
    "query_1 = W_query @ sentence_embedding[1] # shape: d_query * 1\n",
    "omega_1 = query_1 @ keys.T                # shape: d_embedding * 1\n",
    "\n",
    "attention_1 = torch.nn.functional.softmax(omega_1 / d_key ** 0.5, dim=0) # shape: d_embedding * 1\n",
    "context_1 = attention_1 @ values # shape: d_value * 1\n",
    "\n",
    "pprint.pprint({\n",
    "    \"query_1.shape\": query_1.shape,\n",
    "    \"omega_1.shape\": omega_1.shape,\n",
    "    \"attention_1.shape\": attention_1.shape,\n",
    "    \"context_1.shape\": context_1.shape\n",
    "}, sort_dicts=False)"
   ]
  },
  {
   "cell_type": "code",
   "execution_count": null,
   "metadata": {},
   "outputs": [],
   "source": []
  }
 ],
 "metadata": {
  "kernelspec": {
   "display_name": "Python 3",
   "language": "python",
   "name": "python3"
  },
  "language_info": {
   "codemirror_mode": {
    "name": "ipython",
    "version": 3
   },
   "file_extension": ".py",
   "mimetype": "text/x-python",
   "name": "python",
   "nbconvert_exporter": "python",
   "pygments_lexer": "ipython3",
   "version": "3.11.9"
  }
 },
 "nbformat": 4,
 "nbformat_minor": 2
}
